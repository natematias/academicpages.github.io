{
 "cells": [
  {
   "cell_type": "markdown",
   "metadata": {},
   "source": [
    "# Create Publications from rubyscholar json\n",
    "Script by [J. Nathan Matias](https://natematias.com) 2018, made available under an [MIT License](https://opensource.org/licenses/MIT).\n",
    "\n",
    "This script loads data from the json created by [rubyscholar](https://github.com/wurmlab/rubyscholar), compares it to files in \\_publications, and creates new files for any publication that doesn't already have a file. This allows a jekyll website to add papers from Google Scholar."
   ]
  },
  {
   "cell_type": "code",
   "execution_count": 12,
   "metadata": {},
   "outputs": [],
   "source": [
    "import json, yaml, glob, os, re, frontmatter\n",
    "from collections import Counter, defaultdict\n",
    "from dateutil import parser"
   ]
  },
  {
   "cell_type": "code",
   "execution_count": 13,
   "metadata": {},
   "outputs": [],
   "source": [
    "papers_file = \"../rubyscholar/publications.json\""
   ]
  },
  {
   "cell_type": "markdown",
   "metadata": {},
   "source": [
    "### Load All Markdown Files in \\_publications\n",
    "Iterate through \\_publications and extract the metadata so we can avoid creating duplicates. This code should never overwrite an existing markdown data, since we want to be able to customize individual markdown files after they are initially created."
   ]
  },
  {
   "cell_type": "code",
   "execution_count": 61,
   "metadata": {},
   "outputs": [],
   "source": [
    "current_publications = {}\n",
    "current_filenames = []\n",
    "for filename in glob.glob(os.path.join(\"_publications\", \"*\")):\n",
    "    current_filenames.append(filename)\n",
    "    with open(filename, \"r\") as f:\n",
    "        contents = f.read()\n",
    "        if(len(contents)>0):\n",
    "            md = frontmatter.loads(contents)\n",
    "            current_publications[md.metadata['title']] = md.metadata"
   ]
  },
  {
   "cell_type": "markdown",
   "metadata": {},
   "source": [
    "### Load and Parse Publications json file"
   ]
  },
  {
   "cell_type": "code",
   "execution_count": 55,
   "metadata": {},
   "outputs": [],
   "source": [
    "def slugify(value):\n",
    "    \"\"\"\n",
    "    Normalizes string, converts to lowercase, removes non-alpha characters,\n",
    "    and converts spaces to hyphens. modified from the Django codebase\n",
    "    \"\"\"\n",
    "    import unicodedata\n",
    "    value = re.sub('[^\\w\\s-]', '', value).strip().lower()\n",
    "    value = re.sub('[-\\s]+', '-', value)\n",
    "    return value\n",
    "    \n",
    "def create_markdown_from_entry(publication):\n",
    "    post = frontmatter.Post(content=\"\")\n",
    "    post.metadata['title']     = publication['title']\n",
    "    post.metadata['excerpt']   = ''\n",
    "    post.metadata['date']      = publication['year']\n",
    "    post.metadata['venue']     = publication['journal']\n",
    "    post.metadata['paperurl']  = publication['citationUrl']\n",
    "    post.metadata['citation']  = publication['authors'] + \". (\" + publication['year'] + \"). \" + publication['title']  + \". \" + publication['journal']\n",
    "    filename_title = (\" \".join(publication['title'].split(\" \")[0:5])).lower()\n",
    "    post.metadata['filename']  = publication['year'] + \"-\" + slugify(filename_title)\n",
    "    return post\n",
    "\n"
   ]
  },
  {
   "cell_type": "code",
   "execution_count": 56,
   "metadata": {},
   "outputs": [],
   "source": [
    "## LOAD PUBLICATIONS FROM FILE\n",
    "with open(papers_file, \"r\") as f:\n",
    "    publications = json.loads(f.read())"
   ]
  },
  {
   "cell_type": "code",
   "execution_count": 57,
   "metadata": {},
   "outputs": [],
   "source": [
    "for item in publications.values():\n",
    "    publication = item['scholar']"
   ]
  },
  {
   "cell_type": "markdown",
   "metadata": {},
   "source": [
    "### Output Posts to Markdown Where Posts Don't Already Exist"
   ]
  },
  {
   "cell_type": "code",
   "execution_count": 62,
   "metadata": {},
   "outputs": [
    {
     "name": "stdout",
     "output_type": "stream",
     "text": [
      "Wrote 20 new files\n",
      "Omitted to write 0 existing files\n"
     ]
    }
   ],
   "source": [
    "files_written = []\n",
    "files_omitted = []\n",
    "for item in publications.values():\n",
    "    publication = item['scholar']\n",
    "    post = create_markdown_from_entry(publication)\n",
    "    if(post.metadata['title'] not in current_publications.keys() and\n",
    "       post.metadata['filename'] not in current_filenames):\n",
    "        with open(os.path.join(\"_publications\", post.metadata['filename'] + \".md\"), \"w+\") as f:\n",
    "            f.write(frontmatter.dumps(post))\n",
    "            files_written.append(post.metadata['filename'])\n",
    "    else:\n",
    "        files_omitted.append(post.metadata['filename'])\n",
    "\n",
    "print(\"Wrote {0} new files\".format(len(files_written)))\n",
    "print(\"Omitted to write {0} existing files\".format(len(files_omitted)))"
   ]
  },
  {
   "cell_type": "code",
   "execution_count": null,
   "metadata": {},
   "outputs": [],
   "source": []
  }
 ],
 "metadata": {
  "kernelspec": {
   "display_name": "Python 3",
   "language": "python",
   "name": "python3"
  },
  "language_info": {
   "codemirror_mode": {
    "name": "ipython",
    "version": 3
   },
   "file_extension": ".py",
   "mimetype": "text/x-python",
   "name": "python",
   "nbconvert_exporter": "python",
   "pygments_lexer": "ipython3",
   "version": "3.5.2"
  }
 },
 "nbformat": 4,
 "nbformat_minor": 2
}
