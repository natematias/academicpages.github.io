{
 "cells": [
  {
   "cell_type": "markdown",
   "metadata": {},
   "source": [
    "# Create External Posts from RSS Feeds\n",
    "Script by [J. Nathan Matias](https://natematias.com) 2018, made available under an [MIT License](https://opensource.org/licenses/MIT).\n",
    "\n",
    "This script loads data from external RSS feeds, compares it to files in \\_external_posts, and creates new files for any non-blacklisted URLs appearing in the feed. This allows a jekyll website to include posts from an RSS feed in the site layout."
   ]
  },
  {
   "cell_type": "code",
   "execution_count": 269,
   "metadata": {},
   "outputs": [],
   "source": [
    "import feedparser, frontmatter, yaml, glob, os, re, slugify\n",
    "from collections import Counter, defaultdict\n",
    "from dateutil import parser"
   ]
  },
  {
   "cell_type": "code",
   "execution_count": 270,
   "metadata": {},
   "outputs": [],
   "source": [
    "feeds = {\n",
    "    \"MIT\": \"https://civic.mit.edu/author/natematias/feed\",\n",
    "    \"Princeton\": \"https://freedom-to-tinker.com/author/nmatias/feed/\",\n",
    "    \"Medium\": \"https://medium.com/feed/@natematias\",\n",
    "    \"ESN\": \"https://blog.emergingscholars.org/author/j-nathan-matias/feed/\",\n",
    "    \"TheAtlantic\": \"https://www.theatlantic.com/feed/author/j-nathan-matias/\",\n",
    "    \"PBS MediaShift\": \"http://mediashift.org/author/natematias/feed/\",\n",
    "    \"Global Voices\": \"https://summit2012.globalvoices.org/author/nmatias/feed/\"\n",
    "}"
   ]
  },
  {
   "cell_type": "markdown",
   "metadata": {},
   "source": [
    "### Load All Markdown Files in \\_external_posts\n",
    "Iterate through \\_external_posts and extract the metadata so we can avoid creating duplicates. This code should never overwrite an existing markdown data, since we want to be able to customize individual markdown files after they are initially created."
   ]
  },
  {
   "cell_type": "code",
   "execution_count": 274,
   "metadata": {},
   "outputs": [],
   "source": [
    "external_posts = {}\n",
    "current_filenames = []\n",
    "for filename in glob.glob(os.path.join(\"_external_posts\", \"*\")):\n",
    "    current_filenames.append(filename)\n",
    "    with open(filename, \"r\") as f:\n",
    "        contents = f.read()\n",
    "        if(len(contents)>0):\n",
    "            md = frontmatter.loads(contents)\n",
    "            external_posts[md.metadata['link']] = md.metadata"
   ]
  },
  {
   "cell_type": "markdown",
   "metadata": {},
   "source": [
    "### Load and Parse  RSS feeds"
   ]
  },
  {
   "cell_type": "code",
   "execution_count": 275,
   "metadata": {},
   "outputs": [],
   "source": [
    "def slugify(value):\n",
    "    \"\"\"\n",
    "    Normalizes string, converts to lowercase, removes non-alpha characters,\n",
    "    and converts spaces to hyphens. modified from the Django codebase\n",
    "    \"\"\"\n",
    "    import unicodedata\n",
    "    value = re.sub('[^\\w\\s-]', '', value).strip().lower()\n",
    "    value = re.sub('[-\\s]+', '-', value)\n",
    "    return value\n",
    "    \n",
    "def create_markdown_from_entry(entry):\n",
    "    content = ''\n",
    "    post_date = ''\n",
    "    image = ''\n",
    "    if('summary' in entry.keys()):\n",
    "        ## strip HTML tags from the content\n",
    "        summary = re.sub('<[^<]+?>', '', entry['summary']) \n",
    "        ## find all content up to the last full stop        \n",
    "        r_result = re.search('(.*?)(\\.|\\?)', summary)\n",
    "        content = r_result.group(0).replace(\"Read more\", \"\")\n",
    "    if('published' in entry.keys()):\n",
    "        post_date = str(parser.parse(entry['published']).date())\n",
    "    ## TODO: FETCH IMAGE    \n",
    "    post = frontmatter.Post(content = content)\n",
    "    post.metadata['title']     = entry['title']\n",
    "    post.metadata['date']      = post_date\n",
    "    post.metadata['publisher'] = publisher_key\n",
    "    post.metadata['link']      = entry['link']\n",
    "    filename_title = (\" \".join(entry['title'].split(\" \")[0:5])).lower()\n",
    "    post.metadata['filename']  = post_date + \"-\" + slugify(filename_title)\n",
    "    return post\n",
    "\n"
   ]
  },
  {
   "cell_type": "code",
   "execution_count": 276,
   "metadata": {},
   "outputs": [],
   "source": [
    "## CREATE A DICT OF LISTS OF POSTS BY PUBLISHER\n",
    "## WHERE POSTS ARE READY FOR MARKDOWN OUTPUT\n",
    "feed_articles = defaultdict(list)\n",
    "\n",
    "for publisher_key in feeds.keys():\n",
    "    d = feedparser.parse(feeds[publisher_key])\n",
    "    for entry in d['entries']:\n",
    "        feed_articles[publisher_key].append(create_markdown_from_entry(entry))"
   ]
  },
  {
   "cell_type": "markdown",
   "metadata": {},
   "source": [
    "### Output Posts to Markdown Where Posts Don't Already Exist"
   ]
  },
  {
   "cell_type": "code",
   "execution_count": 277,
   "metadata": {},
   "outputs": [
    {
     "name": "stdout",
     "output_type": "stream",
     "text": [
      "Wrote 20 new files\n",
      "Omitted to write 59 existing files\n"
     ]
    }
   ],
   "source": [
    "files_written = []\n",
    "files_omitted = []\n",
    "for key, posts in feed_articles.items():\n",
    "    for post in posts:\n",
    "        if(post.metadata['link'] not in external_posts.keys() and\n",
    "           post.metadata['filename'] not in current_filenames):\n",
    "            with open(os.path.join(\"_external_posts\", post.metadata['filename'] + \".md\"), \"w+\") as f:\n",
    "                f.write(frontmatter.dumps(post))\n",
    "                files_written.append(post.metadata['filename'])\n",
    "        else:\n",
    "            files_omitted.append(post.metadata['filename'])\n",
    "\n",
    "print(\"Wrote {0} new files\".format(len(files_written)))\n",
    "print(\"Omitted to write {0} existing files\".format(len(files_omitted)))"
   ]
  },
  {
   "cell_type": "code",
   "execution_count": null,
   "metadata": {},
   "outputs": [],
   "source": []
  }
 ],
 "metadata": {
  "kernelspec": {
   "display_name": "Python 3",
   "language": "python",
   "name": "python3"
  },
  "language_info": {
   "codemirror_mode": {
    "name": "ipython",
    "version": 3
   },
   "file_extension": ".py",
   "mimetype": "text/x-python",
   "name": "python",
   "nbconvert_exporter": "python",
   "pygments_lexer": "ipython3",
   "version": "3.5.2"
  }
 },
 "nbformat": 4,
 "nbformat_minor": 2
}
