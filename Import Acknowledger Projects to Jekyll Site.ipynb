{
 "cells": [
  {
   "cell_type": "markdown",
   "metadata": {},
   "source": [
    "### Import Projects from the Acknowledger System to Jekyll Site\n",
    "[J. Nathan Matias](https://twitter.com/natematias), July 2018\n",
    "\n",
    "This code imports projects from the [acknowledger system](https://civic.mit.edu/2013/02/17/saying-thanks-online-the-visual-display-of-cooperative-acknowledgment/) ([source](https://github.com/mitmedialab/acknowledger)) database and publishes them to projects in a Jekyll-academic template. "
   ]
  },
  {
   "cell_type": "code",
   "execution_count": 214,
   "metadata": {},
   "outputs": [],
   "source": [
    "import yaml, _mysql, re, frontmatter, glob, os\n",
    "import MySQLdb.cursors\n",
    "from dateutil import parser\n",
    "from collections import defaultdict, Counter\n",
    "\n",
    "def slugify(value):\n",
    "    \"\"\"\n",
    "    Normalizes string, converts to lowercase, removes non-alpha characters,\n",
    "    and converts spaces to hyphens. modified from the Django codebase\n",
    "    \"\"\"\n",
    "    import unicodedata\n",
    "    value = re.sub('[^\\w\\s-]', '', value).strip().lower()\n",
    "    value = re.sub('[-\\s]+', '-', value)\n",
    "    return value\n",
    "\n",
    "\n",
    "with open(\"database.yml\", \"r\") as f:\n",
    "    settings = yaml.load(f.read())\n",
    "    if settings['password'] is None:\n",
    "        settings['password']  = ''\n",
    "    \n",
    "db = _mysql.connect(settings['host'], settings['username'], \n",
    "                    str(settings['password']), settings['database'])"
   ]
  },
  {
   "cell_type": "code",
   "execution_count": 79,
   "metadata": {},
   "outputs": [],
   "source": [
    "db.query(\"SELECT * from projects;\")\n",
    "r = db.store_result()\n",
    "all_projects = {}\n",
    "\n",
    "cursor = r.fetch_row(how=1)\n",
    "while cursor:\n",
    "    all_projects[cursor[0]['id']] = cursor[0]\n",
    "    cursor = r.fetch_row(how=1)"
   ]
  },
  {
   "cell_type": "code",
   "execution_count": 80,
   "metadata": {},
   "outputs": [],
   "source": [
    "## DECODE TO STRING\n",
    "#all_projects[100][0]['title'].decode(\"utf-8\") \n",
    "\n",
    "##TODO: CONSIDER CONVERTING IMAGE LINKS TO HTTPS"
   ]
  },
  {
   "cell_type": "markdown",
   "metadata": {},
   "source": [
    "## Load Acknowledgment Data"
   ]
  },
  {
   "cell_type": "code",
   "execution_count": 109,
   "metadata": {},
   "outputs": [
    {
     "name": "stdout",
     "output_type": "stream",
     "text": [
      "Found 75 projects and 198 project person relationships\n"
     ]
    }
   ],
   "source": [
    "db.query(\"\"\"\n",
    "select projects.id as project_id, people.* \n",
    "FROM projects \n",
    "    JOIN project_people ON projects.id = project_people.project_id \n",
    "    JOIN people on project_people.person_id = people.id;\n",
    "\"\"\")\n",
    "r = db.store_result()\n",
    "project_people = defaultdict(list)\n",
    "\n",
    "cursor = r.fetch_row(how=1)\n",
    "while cursor:\n",
    "    project_people[cursor[0]['project_id']].append(cursor[0])\n",
    "    cursor = r.fetch_row(how=1)\n",
    "print(\"Found {0} projects and {1} project person relationships\".format(\n",
    "    len(project_people),\n",
    "    sum([len(people) for people in project_people.values()])))"
   ]
  },
  {
   "cell_type": "markdown",
   "metadata": {},
   "source": [
    "## Load Host Data"
   ]
  },
  {
   "cell_type": "code",
   "execution_count": 108,
   "metadata": {},
   "outputs": [
    {
     "name": "stdout",
     "output_type": "stream",
     "text": [
      "Found 42 projects and 50 project host relationships\n"
     ]
    }
   ],
   "source": [
    "db.query(\"\"\"\n",
    "select projects.id as project_id, hosts.* \n",
    "FROM projects \n",
    "    JOIN project_hosts ON projects.id = project_hosts.project_id \n",
    "    JOIN hosts on project_hosts.host_id = hosts.id;\n",
    "\"\"\")\n",
    "r = db.store_result()\n",
    "project_hosts = defaultdict(list)\n",
    "\n",
    "cursor = r.fetch_row(how=1)\n",
    "while cursor:\n",
    "    project_hosts[cursor[0]['project_id']].append(cursor[0])\n",
    "    cursor = r.fetch_row(how=1)\n",
    "print(\"Found {0} projects and {1} project host relationships\".format(\n",
    "    len(project_hosts),\n",
    "    sum([len(hosts) for hosts in project_hosts.values()])))"
   ]
  },
  {
   "cell_type": "markdown",
   "metadata": {},
   "source": [
    "## Export Acknowledgments to Markdown"
   ]
  },
  {
   "cell_type": "code",
   "execution_count": 329,
   "metadata": {},
   "outputs": [],
   "source": [
    "#list(all_projects.values())[16]\n",
    "#list(project_people.values())[0][0]\n",
    "#list(project_hosts.values())[2][0]"
   ]
  },
  {
   "cell_type": "code",
   "execution_count": 330,
   "metadata": {},
   "outputs": [],
   "source": [
    "def create_markdown_from_project(project, project_people, project_hosts):\n",
    "    ## EXCLUDE THINGS THAT ARE ONLY POSTS\n",
    "    category = project['category'].decode(\"utf-8\").replace(\"  \", \" \").strip()\n",
    "    if(category ==\"post\"or category==\"post featured\" \n",
    "       or category==\"featured post\"\n",
    "       or category == \"post featured review\"):\n",
    "        return None\n",
    "    \n",
    "    ## SET PROJECT SUBTITLE\n",
    "    subtitle = \"\"\n",
    "    if(project['subtitle']):\n",
    "        subtitle = project['subtitle'].decode(\"utf-8\")\n",
    "    \n",
    "    ## SET PROJECT DATE\n",
    "    project_date = str(parser.parse(project['date']).date())\n",
    "    \n",
    "    ## SET PROJECT URI\n",
    "    uri = \"\"\n",
    "    if(project['uri']):\n",
    "        uri = project['uri'].decode(\"utf-8\")\n",
    "    \n",
    "    ## SET PROJECT IMAGE\n",
    "    image = \"\"\n",
    "    if(project['image']):\n",
    "        image_text = project['image'].decode(\"utf-8\")\n",
    "        if(image_text.find(\"<\") >-1):\n",
    "            r_result = re.search('src=\"(.*?)\"',image_text)\n",
    "            image = r_result.group(1)\n",
    "        elif(project['image'].find(\"http\") > -1):\n",
    "            image = project['image']\n",
    "        \n",
    "    ## SET TITLE\n",
    "    title = project['title'].decode(\"utf-8\")\n",
    "    \n",
    "    ## SET CONTENT\n",
    "    content = \"\"\n",
    "    if(project['description']!= None):\n",
    "        try:\n",
    "            content = project['description'].decode(\"utf-8\")\n",
    "        except:\n",
    "            content = str(project['description'])[2:-1]\n",
    "    \n",
    "    ## SET TAGS\n",
    "    tags = [x for x in category.split(\" \") if x!=\"\"]\n",
    "    \n",
    "    \n",
    "    ## CREATE FRONTMATTER POST\n",
    "    post = frontmatter.Post(content = content)\n",
    "    post.metadata['title']     = title\n",
    "    post.metadata['date']      = project_date\n",
    "    post.metadata['excerpt']   = subtitle\n",
    "    post.metadata['subtitle']  = subtitle\n",
    "    post.metadata['uri']      = uri\n",
    "    post.metadata['image']     = image\n",
    "    post.metadata['tags']      = tags\n",
    "\n",
    "    ## SET FILENAME\n",
    "    filename_title = (\" \".join(title.split(\" \")[0:5])).lower()\n",
    "    post.metadata['filename']  = project_date + \"-\" + slugify(filename_title)\n",
    "   \n",
    "    ## SET CREATORS\n",
    "    creators = []\n",
    "    if(project['id'] in project_people.keys()):\n",
    "        for person in project_people[project['id']]:\n",
    "            creators.append(person['name'].decode(\"utf-8\"))\n",
    "    post.metadata['creators'] = creators\n",
    "    \n",
    "    ## SET HOSTS\n",
    "    hosts = []\n",
    "    if(project['id'] in project_hosts.keys()):\n",
    "        for host in project_hosts[project['id']]:\n",
    "            hosts.append(host['name'].decode(\"utf-8\"))\n",
    "            \n",
    "    post.metadata['hosts'] = hosts\n",
    "    \n",
    "    \n",
    "    return post\n",
    "\n"
   ]
  },
  {
   "cell_type": "code",
   "execution_count": 332,
   "metadata": {},
   "outputs": [
    {
     "name": "stdout",
     "output_type": "stream",
     "text": [
      "Analyzed 172 projects, created 82 project posts\n"
     ]
    }
   ],
   "source": [
    "project_posts = []\n",
    "for project in all_projects.values():\n",
    "    project_post = create_markdown_from_project(\n",
    "        project,project_people, project_hosts)\n",
    "    if(project_post):\n",
    "        project_posts.append(project_post)\n",
    "print(\"Analyzed {0} projects, created {1} project posts\".format(\n",
    "      len(all_projects), len(project_posts)))"
   ]
  },
  {
   "cell_type": "markdown",
   "metadata": {},
   "source": [
    "# Write Projects to File"
   ]
  },
  {
   "cell_type": "markdown",
   "metadata": {},
   "source": [
    "### Load All Markdown Files in \\_projects\n",
    "Iterate through \\__projects and extract the metadata so we can avoid creating duplicates. This code should never overwrite an existing markdown data, since we want to be able to customize individual markdown files after they are initially created."
   ]
  },
  {
   "cell_type": "code",
   "execution_count": 333,
   "metadata": {},
   "outputs": [],
   "source": [
    "current_projects = {}\n",
    "current_filenames = []\n",
    "for filename in glob.glob(os.path.join(\"_portfolio\", \"*\")):\n",
    "    current_filenames.append(filename)\n",
    "    with open(filename, \"r\") as f:\n",
    "        contents = f.read()\n",
    "        if(len(contents)>0):\n",
    "            md = frontmatter.loads(contents)\n",
    "            current_projects[md.metadata['title']] = md.metadata"
   ]
  },
  {
   "cell_type": "code",
   "execution_count": 334,
   "metadata": {},
   "outputs": [
    {
     "name": "stdout",
     "output_type": "stream",
     "text": [
      "Wrote 82 new files\n",
      "Omitted to write 0 existing files\n"
     ]
    }
   ],
   "source": [
    "files_written = []\n",
    "files_omitted = []\n",
    "for post in project_posts:\n",
    "    if(post.metadata['title'] not in current_projects.keys() and\n",
    "        post.metadata['filename'] not in current_filenames):\n",
    "        with open(os.path.join(\"_portfolio\", post.metadata['filename'] + \".md\"), \"w+\") as f:\n",
    "            f.write(frontmatter.dumps(post))\n",
    "            files_written.append(post.metadata['filename'])\n",
    "    else:\n",
    "        files_omitted.append(post.metadata['filename'])\n",
    "\n",
    "print(\"Wrote {0} new files\".format(len(files_written)))\n",
    "print(\"Omitted to write {0} existing files\".format(len(files_omitted)))"
   ]
  },
  {
   "cell_type": "code",
   "execution_count": null,
   "metadata": {},
   "outputs": [],
   "source": []
  }
 ],
 "metadata": {
  "kernelspec": {
   "display_name": "Python 3",
   "language": "python",
   "name": "python3"
  },
  "language_info": {
   "codemirror_mode": {
    "name": "ipython",
    "version": 3
   },
   "file_extension": ".py",
   "mimetype": "text/x-python",
   "name": "python",
   "nbconvert_exporter": "python",
   "pygments_lexer": "ipython3",
   "version": "3.5.2"
  }
 },
 "nbformat": 4,
 "nbformat_minor": 2
}
